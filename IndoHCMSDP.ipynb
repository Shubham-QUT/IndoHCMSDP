{
 "cells": [
  {
   "cell_type": "code",
   "execution_count": 1,
   "metadata": {},
   "outputs": [],
   "source": [
    "import numpy as np\n",
    "import pandas as pd\n",
    "import math\n",
    "import matplotlib.pyplot as plt"
   ]
  },
  {
   "cell_type": "markdown",
   "metadata": {},
   "source": [
    "# Input Parameters"
   ]
  },
  {
   "cell_type": "markdown",
   "metadata": {},
   "source": [
    "#Geometric Characterisitics"
   ]
  },
  {
   "cell_type": "code",
   "execution_count": 2,
   "metadata": {},
   "outputs": [],
   "source": [
    "def PCE_Table(Table):\n",
    "    if Table == 'Indo_HCM':\n",
    "        PCE_Table1 = pd.DataFrame([['TW' , 0.4 , 0.16], ['Auto' , 0.5 , 0.21], ['Car' , 1.0 , 0], ['LCV' , 1.1 , 0.05], ['HCV' , 1.6 , 0.16], \n",
    "                                  ['Bus' , 1.6 , 0.35], ['Bicycle' , 0.3 , 0.14], ['Cycle rickshaw' , 1.8 , 0], ['cart' , 4.0 , 0]], columns = ['Type', 'PCE' , 'SD'])\n",
    "    else:\n",
    "        PCE_Table1 = Table\n",
    "    return (PCE_Table1)"
   ]
  },
  {
   "cell_type": "markdown",
   "metadata": {},
   "source": [
    "# Design Flow Rate"
   ]
  },
  {
   "cell_type": "code",
   "execution_count": 3,
   "metadata": {},
   "outputs": [],
   "source": [
    "def Design_Volume(Hourly_vol, Peak_fifteen_min_vol, PHF):\n",
    "    if PHF == None:\n",
    "        Design_Volume1 = Peak_fifteen_min_vol * 4\n",
    "    if PHF != None:\n",
    "        Design_Volume1 = Hourly_vol / PHF\n",
    "    return (Design_Volume1)"
   ]
  },
  {
   "cell_type": "markdown",
   "metadata": {},
   "source": [
    "# Passenger Car Equivalent (PCE)"
   ]
  },
  {
   "cell_type": "code",
   "execution_count": 4,
   "metadata": {},
   "outputs": [],
   "source": [
    "def PCE(Vol, PCE_Table1, Type_of_veh,  Dev):\n",
    "    Table = PCE_Table(PCE_Table1)\n",
    "    print(Table)\n",
    "    PCU = float(Table.loc[Table['Type'] == Type_of_veh]['PCE'])\n",
    "    try:\n",
    "        PCU_std = Dev * float(Table.loc[Table['Type'] == Type_of_veh]['SD'])\n",
    "    except: \n",
    "        PCU_std = 0\n",
    "        pass\n",
    "    PCU = PCU + PCU_std\n",
    "    Vol1 = Vol* PCU\n",
    "    return(Vol1)"
   ]
  },
  {
   "cell_type": "markdown",
   "metadata": {},
   "source": [
    "# Base Saturation Flow"
   ]
  },
  {
   "cell_type": "code",
   "execution_count": 5,
   "metadata": {},
   "outputs": [],
   "source": [
    "def Base_Saturation_Flow(width):\n",
    "    if width <=0:\n",
    "        BSF =False\n",
    "        print('Enter correct width')\n",
    "    elif width < 7:\n",
    "        BSF = 630\n",
    "    elif width <= 10.5:\n",
    "        BSF = 1140 - 60 * width\n",
    "    else:\n",
    "        BSF = 500\n",
    "    return(BSF)\n",
    "    "
   ]
  },
  {
   "cell_type": "markdown",
   "metadata": {},
   "source": [
    "# Adjustment Factor for Bus blockage"
   ]
  },
  {
   "cell_type": "code",
   "execution_count": 6,
   "metadata": {},
   "outputs": [],
   "source": [
    "def Adjustment_factor_Bus_Blockage(width, ABT , NB, dfs):\n",
    "    if dfs <= 75:\n",
    "        fbb = (width - 3 * (ABT * NB) / 3600) / width\n",
    "    elif dfs > 75:\n",
    "        fbb = 1\n",
    "    return(fbb)"
   ]
  },
  {
   "cell_type": "markdown",
   "metadata": {},
   "source": [
    "# Adjustment factor for Standing Right turning vehicles"
   ]
  },
  {
   "cell_type": "code",
   "execution_count": 7,
   "metadata": {},
   "outputs": [],
   "source": [
    "def Adjustment_factor_SRTV(width, width_right, exclusive_lane, right_turn_obstruction):\n",
    "    if right_turn_obstruction == False:\n",
    "        fbr = 1\n",
    "    else:\n",
    "        if width_right == 0:\n",
    "            width_right = 2.5\n",
    "        if width >= 7: \n",
    "            if exclusive_lane == 0:\n",
    "                fbr = (width - width_right)/width\n",
    "            if exclusive_lane > 0:\n",
    "                fbr = 1\n",
    "        if width < 7:\n",
    "            fbr = 1\n",
    "    return (fbr)"
   ]
  },
  {
   "cell_type": "markdown",
   "metadata": {},
   "source": [
    "# Adjustment Factor for the Initial Surge of Vehicles"
   ]
  },
  {
   "cell_type": "code",
   "execution_count": 8,
   "metadata": {},
   "outputs": [],
   "source": [
    "def Adjustment_factor_Surge(effective_green, surge_duration, surge_ratio, anticipation, flare):\n",
    "    if anticipation == True and flare == False:\n",
    "        fis = 1\n",
    "    elif anticipation == True and flare == True:\n",
    "        fis = (effective_green + (surge_duration * surge_ratio )) /effective_green \n",
    "    elif anticipation == False and flare == True:\n",
    "        fis = 1 + ((surge_ratio)-1 ) *surge_duration / effective_green\n",
    "    return (fis)"
   ]
  },
  {
   "cell_type": "markdown",
   "metadata": {},
   "source": [
    "# Calculating adjusted Saturation Flow"
   ]
  },
  {
   "cell_type": "code",
   "execution_count": 9,
   "metadata": {},
   "outputs": [],
   "source": [
    "def sat_flow(width, fbb, fbr, fis):\n",
    "    sat_flow = Base_Saturation_Flow(width) *width * fbb * fbr * fis\n",
    "    return (sat_flow)"
   ]
  },
  {
   "cell_type": "markdown",
   "metadata": {},
   "source": [
    "# Capacity of a movement group"
   ]
  },
  {
   "cell_type": "code",
   "execution_count": 10,
   "metadata": {},
   "outputs": [],
   "source": [
    "def capacity_movement_group(Sat_flow , eff_green , Cy_Time):\n",
    "    capacity_MG = Sat_flow *  eff_green / Cy_Time\n",
    "    return (capacity_MG)"
   ]
  },
  {
   "cell_type": "markdown",
   "metadata": {},
   "source": [
    "# Volume to Capacity Ratio "
   ]
  },
  {
   "cell_type": "code",
   "execution_count": 11,
   "metadata": {},
   "outputs": [],
   "source": [
    "def v_by_c(vol_MG , Sat_flow , eff_green , Cy_Time):\n",
    "    v_by_c = vol_MG * Cy_Time/ (Sat_flow * eff_green) \n",
    "    return (v_by_c)"
   ]
  },
  {
   "cell_type": "markdown",
   "metadata": {},
   "source": [
    "# Critical Volume to Capacity Ratio of the Intersection"
   ]
  },
  {
   "cell_type": "code",
   "execution_count": 12,
   "metadata": {},
   "outputs": [],
   "source": [
    "def critical_v_by_c(n_phase, vol_MG_list , Sat_flow_list , Cy_Time, L):\n",
    "    X = 0\n",
    "    for i in range(n_phase):\n",
    "        X = X + (vol_MG_list[i]/Sat_flow_list[i]) * (Cy_Time/ (Cy_Time - L))\n",
    "    return (X)"
   ]
  },
  {
   "cell_type": "markdown",
   "metadata": {},
   "source": [
    "# Uniform Delay (d1)"
   ]
  },
  {
   "cell_type": "code",
   "execution_count": 13,
   "metadata": {},
   "outputs": [],
   "source": [
    "def Uniform_delay(C, green, X):\n",
    "    d1 = 0.50 * C * (1- green/C)* (1- green/C)/(1-min(1,X) *green/C)\n",
    "    return (d1)"
   ]
  },
  {
   "cell_type": "markdown",
   "metadata": {},
   "source": [
    "# Incremental delay (d2)"
   ]
  },
  {
   "cell_type": "code",
   "execution_count": 14,
   "metadata": {},
   "outputs": [],
   "source": [
    "def incremental_delay(X, T, CSI):\n",
    "    d2 = 900 * T * (X-1 + math.sqrt((X-1) * (X-1) + 4 * X / (CSI * T)))\n",
    "    return (d2)"
   ]
  },
  {
   "cell_type": "markdown",
   "metadata": {},
   "source": [
    "# Initial Queue delay (d3)"
   ]
  },
  {
   "cell_type": "code",
   "execution_count": 15,
   "metadata": {},
   "outputs": [],
   "source": [
    "def delay_initial_queue( X,  T, CSI, Qb , C):\n",
    "    if Qb ==0:\n",
    "        t = 0\n",
    "    elif Qb != 0:\n",
    "        t = min(T, Qb/(CSI * (1 - min(1 , X))))\n",
    "    if t <= T:\n",
    "        u = 0\n",
    "    elif t == T:\n",
    "        u = 1- C*T/(Qb * (1- min(1,X)))\n",
    "    if Qb == 0:\n",
    "        d3 = 0\n",
    "    elif Qb!= 0:\n",
    "        d3 = 1800 * Qb * (1+u) * t / (CSI * T)\n",
    "    return (d3)"
   ]
  },
  {
   "cell_type": "markdown",
   "metadata": {},
   "source": [
    "# Total Approach delay"
   ]
  },
  {
   "cell_type": "code",
   "execution_count": 16,
   "metadata": {},
   "outputs": [],
   "source": [
    "def approach_delay(V, C, green, X, T, CSI, Qb):\n",
    "    d1 = Uniform_delay(C, green, X)\n",
    "    d2 = incremental_delay(X, T, CSI)\n",
    "    d3 = delay_initial_queue( X,  T, CSI, Qb , C)\n",
    "    d = V * (0.9 * d1+d2+d3)\n",
    "    return (d)"
   ]
  },
  {
   "cell_type": "markdown",
   "metadata": {},
   "source": [
    "# Total Intersection Delay"
   ]
  },
  {
   "cell_type": "code",
   "execution_count": 17,
   "metadata": {},
   "outputs": [],
   "source": [
    "def intersection_delay(n_phase, list_of_volume , C, list_of_X, T, list_of_greens, CSI, list_of_Qb):\n",
    "    intersection_delay = 0\n",
    "    total_veh = 0\n",
    "    for i in range(n_phase):\n",
    "        intersection_delay = intersection_delay + approach_delay(list_of_volume[i], C, list_of_greens[i], list_of_X[i], T, CSI, list_of_Qb[i])\n",
    "        total_veh = total_veh + list_of_volume[i]\n",
    "    average_delay = intersection_delay / total_veh\n",
    "    return (intersection_delay, average_delay)"
   ]
  },
  {
   "cell_type": "markdown",
   "metadata": {},
   "source": [
    "# Level of Service (Control Delay)"
   ]
  },
  {
   "cell_type": "code",
   "execution_count": 18,
   "metadata": {},
   "outputs": [],
   "source": [
    "def LOS_CD(average_delay):\n",
    "    if average_delay <= 20:\n",
    "        LOS = 'A'\n",
    "    elif average_delay <= 40:\n",
    "        LOS = 'B'\n",
    "    elif average_delay <= 65:\n",
    "        LOS = 'C'\n",
    "    elif average_delay <= 95:\n",
    "        LOS = 'D'\n",
    "    elif average_delay <= 130:\n",
    "        LOS = 'E'\n",
    "    else:\n",
    "        LOS = 'F'\n",
    "    return (LOS)"
   ]
  },
  {
   "cell_type": "markdown",
   "metadata": {},
   "source": [
    "# Level of Service (V/C)"
   ]
  },
  {
   "cell_type": "code",
   "execution_count": 19,
   "metadata": {},
   "outputs": [],
   "source": [
    "def LOS_VC(X):\n",
    "    if X <= 0.45:\n",
    "        LOS = 'A'\n",
    "    elif X <= 0.75:\n",
    "        LOS = 'B'\n",
    "    elif X <= 0.95:\n",
    "        LOS = 'C'\n",
    "    elif X <= 1.05:\n",
    "        LOS = 'D'\n",
    "    elif X <= 1.10:\n",
    "        LOS = 'E'\n",
    "    else:\n",
    "        LOS = 'F'\n",
    "    return (LOS)"
   ]
  },
  {
   "cell_type": "code",
   "execution_count": 20,
   "metadata": {},
   "outputs": [],
   "source": [
    "def cap_and_list_of_X(number_of_phases, effective_green_time ,Cycle_Length , approach_widths, Average_Bus_Blockage_Time, \n",
    "              Number_of_buses_stopping, distance_of_Bus_stops_from_stopline, right_turning_width,\n",
    "             Exclusive_right_turning_Lanes, surge_ratio, Presence_of_anticipation, list_of_volume, right_turn_obstruction):\n",
    "    cap = 0\n",
    "    list_a = []\n",
    "    for i in range(number_of_phases):\n",
    "        BSF = Base_Saturation_Flow(approach_widths[i])\n",
    "        fbb = Adjustment_factor_Bus_Blockage(approach_widths[i], Average_Bus_Blockage_Time[i] , Number_of_buses_stopping[i], distance_of_Bus_stops_from_stopline[i])\n",
    "        fbr = Adjustment_factor_SRTV(approach_widths[i], right_turning_width[i], Exclusive_right_turning_Lanes[i], right_turn_obstruction[i])\n",
    "        fis = Adjustment_factor_Surge(effective_green_time[i], surge_duration[i], surge_ratio[i], \n",
    "                                     Presence_of_anticipation[i], Presence_of_flare[i])\n",
    "        sf = sat_flow( approach_widths[i], fbb, fbr, fis)\n",
    "        capacity = capacity_movement_group(sf , effective_green_time[i] , Cycle_Length)\n",
    "        cap = cap + capacity\n",
    "        vc = v_by_c(list_of_volume[i] , sf , effective_green_time[i] , Cycle_Length)\n",
    "        list_a.append(vc)\n",
    "    return (cap, list_a)"
   ]
  },
  {
   "cell_type": "markdown",
   "metadata": {},
   "source": [
    "# Input_parameters"
   ]
  },
  {
   "cell_type": "markdown",
   "metadata": {},
   "source": [
    "Geometric\n",
    "1. width\n",
    "2. presence/absence of exclusive lanes for exclusive right turn phase\n",
    "3. Presence/absense of bus bays or curbside bus stops"
   ]
  },
  {
   "cell_type": "code",
   "execution_count": 21,
   "metadata": {},
   "outputs": [],
   "source": [
    "number_of_phases = 4\n",
    "approach_widths = [7.5 , 7.5 , 7.5 , 7.5]\n",
    "Exclusive_right_turning_Lanes = [0,0,0,0]\n",
    "right_turning_width = [0,0,0,0]\n",
    "right_turn_obstruction = [False, True, False, False]\n",
    "Exclusive_right_turn_phase = [0, 0, 0, 0]\n",
    "Bus_bays = [False, False, True, False]\n",
    "distance_of_Bus_stops_from_stopline = [75,80,87,90]\n",
    "Average_Bus_Blockage_Time = [15,15,15,15]"
   ]
  },
  {
   "cell_type": "markdown",
   "metadata": {},
   "source": [
    "Traffic Characteristics\n",
    "1. Classified peak hour traffic volume of all movements\n",
    "2. Mode-wise classification\n",
    "3. Number of buses stopping at the intersection\n",
    "4. Presence or absense of approach flare and anticipated early movement and resulting initial surge\n",
    "5. Initial Queue Length"
   ]
  },
  {
   "cell_type": "code",
   "execution_count": 22,
   "metadata": {},
   "outputs": [],
   "source": [
    "Peak_hour_volume = [1600,1800,2800,1200]\n",
    "PHF = [.95, .95 , .95 , .89]\n",
    "Number_of_buses_stopping = [12,14,15,65]\n",
    "Distance_of_bus_stops = [60,70,58,96]\n",
    "Presence_of_flare = [True, True, True, True]\n",
    "Presence_of_anticipation = [True, True, True, True]\n",
    "surge_duration = [5,5,5,5]\n",
    "surge_ratio = [1.15,1.15,1.15,1.15]\n",
    "Initial_Queue_Length = [0,0,0,0]"
   ]
  },
  {
   "cell_type": "markdown",
   "metadata": {},
   "source": [
    "Control characteristic:\n",
    "1. Cycle Time\n",
    "2. Green Time\n",
    "3. Change and clearance interval\n",
    "4. Phase Plan\n",
    "5. Analysis Period"
   ]
  },
  {
   "cell_type": "code",
   "execution_count": 23,
   "metadata": {},
   "outputs": [],
   "source": [
    "Maximum_Cycle_Time = 180\n",
    "Minimum_Phase_Time = [20,20,20,20]\n",
    "effective_g_int = [20,20,20,20]\n",
    "Yellow= [3,3,3,3]\n",
    "All_Red_Time = [2,2,2,2]\n",
    "Analysis_Period = .25"
   ]
  },
  {
   "cell_type": "code",
   "execution_count": 24,
   "metadata": {},
   "outputs": [],
   "source": [
    "def Signal_Design(number_of_phases , approach_widths, Exclusive_right_turn_phase, Bus_bays, Peak_hour_volume, PHF, \n",
    "                   Number_of_buses_stopping, Distance_of_bus_stops, Presence_of_flare, Presence_of_anticipation,\n",
    "                   Initial_Queue_Length, Maximum_Cycle_Time, Minimum_Phase_Time, \n",
    "                   effective_green_time, Yellow, All_Red_Time, Analysis_Period, Average_Bus_Blockage_Time, \n",
    "                  distance_of_Bus_stops_from_stopline, right_turning_width, Exclusive_right_turning_Lanes, surge_ratio, right_turn_obstruction):\n",
    "    \n",
    "    \n",
    "    list_of_Qb = Initial_Queue_Length\n",
    "    list_of_greens = effective_green_time\n",
    "    T = Analysis_Period\n",
    "    Cycle_Length = sum(effective_green_time) + sum(Yellow) + sum(All_Red_Time)\n",
    "    list_of_volume = list(np.array(Peak_hour_volume) * np.array(PHF))\n",
    "    CSI , list_of_X = cap_and_list_of_X(number_of_phases, effective_green_time , Cycle_Length , approach_widths, Average_Bus_Blockage_Time, \n",
    "              Number_of_buses_stopping, distance_of_Bus_stops_from_stopline, right_turning_width,\n",
    "             Exclusive_right_turning_Lanes, surge_ratio, Presence_of_anticipation, list_of_volume, right_turn_obstruction)\n",
    "    idl, average_delay = intersection_delay(number_of_phases, list_of_volume , Cycle_Length, list_of_X, T, list_of_greens, CSI, list_of_Qb)\n",
    "    los = LOS_CD(average_delay)\n",
    "    return(average_delay)"
   ]
  },
  {
   "cell_type": "code",
   "execution_count": 25,
   "metadata": {},
   "outputs": [
    {
     "ename": "NameError",
     "evalue": "name 'effective_green_time' is not defined",
     "output_type": "error",
     "traceback": [
      "\u001b[1;31m---------------------------------------------------------------------------\u001b[0m",
      "\u001b[1;31mNameError\u001b[0m                                 Traceback (most recent call last)",
      "\u001b[1;32m<ipython-input-25-c0e33d08fe14>\u001b[0m in \u001b[0;36m<module>\u001b[1;34m\u001b[0m\n\u001b[0;32m      2\u001b[0m                     \u001b[0mNumber_of_buses_stopping\u001b[0m\u001b[1;33m,\u001b[0m \u001b[0mDistance_of_bus_stops\u001b[0m\u001b[1;33m,\u001b[0m \u001b[0mPresence_of_flare\u001b[0m\u001b[1;33m,\u001b[0m \u001b[0mPresence_of_anticipation\u001b[0m\u001b[1;33m,\u001b[0m\u001b[1;33m\u001b[0m\u001b[1;33m\u001b[0m\u001b[0m\n\u001b[0;32m      3\u001b[0m                     \u001b[0mInitial_Queue_Length\u001b[0m\u001b[1;33m,\u001b[0m \u001b[0mMaximum_Cycle_Time\u001b[0m\u001b[1;33m,\u001b[0m \u001b[0mMinimum_Phase_Time\u001b[0m\u001b[1;33m,\u001b[0m\u001b[1;33m\u001b[0m\u001b[1;33m\u001b[0m\u001b[0m\n\u001b[1;32m----> 4\u001b[1;33m                     \u001b[0meffective_green_time\u001b[0m\u001b[1;33m,\u001b[0m \u001b[0mYellow\u001b[0m\u001b[1;33m,\u001b[0m \u001b[0mAll_Red_Time\u001b[0m\u001b[1;33m,\u001b[0m \u001b[0mAnalysis_Period\u001b[0m\u001b[1;33m,\u001b[0m \u001b[0mAverage_Bus_Blockage_Time\u001b[0m\u001b[1;33m,\u001b[0m\u001b[1;33m\u001b[0m\u001b[1;33m\u001b[0m\u001b[0m\n\u001b[0m\u001b[0;32m      5\u001b[0m                     distance_of_Bus_stops_from_stopline, right_turning_width, Exclusive_right_turning_Lanes, surge_ratio, right_turn_obstruction)\n\u001b[0;32m      6\u001b[0m \u001b[0mprint\u001b[0m\u001b[1;33m(\u001b[0m\u001b[0ma\u001b[0m\u001b[1;33m)\u001b[0m\u001b[1;33m\u001b[0m\u001b[1;33m\u001b[0m\u001b[0m\n",
      "\u001b[1;31mNameError\u001b[0m: name 'effective_green_time' is not defined"
     ]
    }
   ],
   "source": [
    "a = Signal_Design(number_of_phases , approach_widths, Exclusive_right_turn_phase, Bus_bays, Peak_hour_volume, PHF, \n",
    "                    Number_of_buses_stopping, Distance_of_bus_stops, Presence_of_flare, Presence_of_anticipation,\n",
    "                    Initial_Queue_Length, Maximum_Cycle_Time, Minimum_Phase_Time, \n",
    "                    effective_green_time, Yellow, All_Red_Time, Analysis_Period, Average_Bus_Blockage_Time, \n",
    "                    distance_of_Bus_stops_from_stopline, right_turning_width, Exclusive_right_turning_Lanes, surge_ratio, right_turn_obstruction)\n",
    "print(a)"
   ]
  },
  {
   "cell_type": "code",
   "execution_count": 26,
   "metadata": {},
   "outputs": [],
   "source": [
    "def Optimum(effective_g):\n",
    "    return(Signal_Design(number_of_phases , approach_widths, Exclusive_right_turn_phase, Bus_bays, Peak_hour_volume, PHF, \n",
    "                         Number_of_buses_stopping, Distance_of_bus_stops, Presence_of_flare, Presence_of_anticipation,\n",
    "                         Initial_Queue_Length, Maximum_Cycle_Time, Minimum_Phase_Time, \n",
    "                         effective_g, Yellow, All_Red_Time, Analysis_Period, Average_Bus_Blockage_Time, \n",
    "                         distance_of_Bus_stops_from_stopline, right_turning_width, Exclusive_right_turning_Lanes, surge_ratio, right_turn_obstruction))"
   ]
  },
  {
   "cell_type": "markdown",
   "metadata": {},
   "source": [
    "# Limited-memory BFGS (L-BFGS or LM-BFGS)"
   ]
  },
  {
   "cell_type": "code",
   "execution_count": 27,
   "metadata": {},
   "outputs": [],
   "source": [
    "from scipy.optimize import minimize"
   ]
  },
  {
   "cell_type": "code",
   "execution_count": 28,
   "metadata": {},
   "outputs": [],
   "source": [
    "def constraint_max(effective_g):\n",
    "    return(Maximum_Cycle_Time -sum(effective_g) - sum(Yellow) - sum(All_Red_Time))"
   ]
  },
  {
   "cell_type": "code",
   "execution_count": 29,
   "metadata": {},
   "outputs": [],
   "source": [
    "bnds = []\n",
    "for i in range(number_of_phases):\n",
    "    bnds.append((Minimum_Phase_Time[i], Maximum_Cycle_Time))\n",
    "\n",
    "con1 = {'type': 'ineq' , 'fun' : constraint_max}\n",
    "cons = [con1]"
   ]
  },
  {
   "cell_type": "code",
   "execution_count": 30,
   "metadata": {},
   "outputs": [
    {
     "name": "stderr",
     "output_type": "stream",
     "text": [
      "C:\\Users\\n10680535\\Anaconda3\\lib\\site-packages\\scipy\\optimize\\_minimize.py:539: RuntimeWarning: Method L-BFGS-B cannot handle constraints.\n",
      "  RuntimeWarning)\n",
      "C:\\Users\\n10680535\\Anaconda3\\lib\\site-packages\\ipykernel_launcher.py:7: OptimizeWarning: Unknown solver options: xatol\n",
      "  import sys\n"
     ]
    },
    {
     "data": {
      "text/plain": [
       "267.3843809727862"
      ]
     },
     "execution_count": 30,
     "metadata": {},
     "output_type": "execute_result"
    }
   ],
   "source": [
    "history = []\n",
    "def callback(x):\n",
    "    \n",
    "    fobj = Optimum(x)\n",
    "    history.append(fobj)\n",
    "res = minimize(Optimum, effective_g_int, method='L-BFGS-B',\n",
    "               options={'xatol': 1e-8, 'disp': True}, bounds = bnds, constraints = cons, callback=callback)\n",
    "res.fun"
   ]
  },
  {
   "cell_type": "code",
   "execution_count": 31,
   "metadata": {},
   "outputs": [
    {
     "name": "stdout",
     "output_type": "stream",
     "text": [
      "[296.3342159191479, 274.44594157748725, 268.29520500849833, 267.6735581203625, 267.4162669213378, 267.38840695943134, 267.3851624205757, 267.3844693484959, 267.38438306042093, 267.3843810031683, 267.3843809727862]\n"
     ]
    }
   ],
   "source": [
    "\n",
    "print(history)\n",
    "df = pd.DataFrame(history)\n",
    "df.columns =  ['L-BFGS-B']"
   ]
  },
  {
   "cell_type": "code",
   "execution_count": 32,
   "metadata": {},
   "outputs": [
    {
     "data": {
      "text/plain": [
       "Text(0, 0.5, 'Control Delay per Vehicle (sec/veh)')"
      ]
     },
     "execution_count": 32,
     "metadata": {},
     "output_type": "execute_result"
    },
    {
     "data": {
      "image/png": "[encoded data removed]",
      "text/plain": [
       "<Figure size 432x288 with 1 Axes>"
      ]
     },
     "metadata": {
      "needs_background": "light"
     },
     "output_type": "display_data"
    }
   ],
   "source": [
    "ax = df.plot()\n",
    "ax.set_xlabel(\"Iterations\")\n",
    "ax.set_ylabel(\"Control Delay per Vehicle (sec/veh)\")"
   ]
  },
  {
   "cell_type": "markdown",
   "metadata": {},
   "source": [
    "# Sequential quadratic programming (SQP) algorithm "
   ]
  },
  {
   "cell_type": "code",
   "execution_count": 33,
   "metadata": {},
   "outputs": [
    {
     "name": "stdout",
     "output_type": "stream",
     "text": [
      "Optimization terminated successfully    (Exit mode 0)\n",
      "            Current function value: 267.38438115521745\n",
      "            Iterations: 14\n",
      "            Function evaluations: 70\n",
      "            Gradient evaluations: 14\n"
     ]
    },
    {
     "name": "stderr",
     "output_type": "stream",
     "text": [
      "C:\\Users\\n10680535\\Anaconda3\\lib\\site-packages\\ipykernel_launcher.py:7: OptimizeWarning: Unknown solver options: xatol\n",
      "  import sys\n"
     ]
    },
    {
     "data": {
      "text/plain": [
       "267.38438115521745"
      ]
     },
     "execution_count": 33,
     "metadata": {},
     "output_type": "execute_result"
    }
   ],
   "source": [
    "history1 = []\n",
    "def callback1(x):\n",
    "    \n",
    "    fobj = Optimum(x)\n",
    "    history1.append(fobj)\n",
    "res = minimize(Optimum, effective_g_int, method='SLSQP',\n",
    "               options={'xatol': 1e-8, 'disp': True}, bounds = bnds, constraints = cons, callback=callback1)\n",
    "res.fun"
   ]
  },
  {
   "cell_type": "code",
   "execution_count": 34,
   "metadata": {},
   "outputs": [
    {
     "name": "stdout",
     "output_type": "stream",
     "text": [
      "[296.33418962341517, 276.08291577966423, 268.18879950153024, 267.6980242302781, 267.50109755078904, 267.42854633598046, 267.39581419288703, 267.38636407124346, 267.38468644769006, 267.3844733432046, 267.3844109251359, 267.38438474351096, 267.38438115521745, 267.38438115521745]\n"
     ]
    },
    {
     "data": {
      "text/plain": [
       "Text(0, 0.5, 'Control Delay per Vehicle (sec/veh)')"
      ]
     },
     "execution_count": 34,
     "metadata": {},
     "output_type": "execute_result"
    },
    {
     "data": {
      "image/png": "[encoded data removed]",
      "text/plain": [
       "<Figure size 432x288 with 1 Axes>"
      ]
     },
     "metadata": {
      "needs_background": "light"
     },
     "output_type": "display_data"
    }
   ],
   "source": [
    "print(history1)\n",
    "df1 = pd.DataFrame(history1)\n",
    "df1.columns =  ['SLSQP']\n",
    "ax1 = df1.plot()\n",
    "ax1.set_xlabel(\"Iterations\")\n",
    "ax1.set_ylabel(\"Control Delay per Vehicle (sec/veh)\")"
   ]
  },
  {
   "cell_type": "code",
   "execution_count": 35,
   "metadata": {},
   "outputs": [
    {
     "data": {
      "text/plain": [
       "Text(0, 0.5, 'Control Delay per Vehicle (sec/veh)')"
      ]
     },
     "execution_count": 35,
     "metadata": {},
     "output_type": "execute_result"
    },
    {
     "data": {
      "image/png": "[encoded data removed]",
      "text/plain": [
       "<Figure size 432x288 with 1 Axes>"
      ]
     },
     "metadata": {
      "needs_background": "light"
     },
     "output_type": "display_data"
    }
   ],
   "source": [
    "fig,ax = plt.subplots()\n",
    "df.plot(ax = ax)\n",
    "df1.plot(ax=ax)\n",
    "ax.set_xlabel(\"Iterations\")\n",
    "ax.set_ylabel(\"Control Delay per Vehicle (sec/veh)\")"
   ]
  },
  {
   "cell_type": "markdown",
   "metadata": {},
   "source": [
    "# Forest Res algorithm"
   ]
  },
  {
   "cell_type": "code",
   "execution_count": 36,
   "metadata": {},
   "outputs": [],
   "source": [
    "from functools import partial\n",
    "from skopt.plots import plot_evaluations\n",
    "from skopt import gp_minimize, forest_minimize, dummy_minimize\n",
    "from skopt.plots import plot_objective"
   ]
  },
  {
   "cell_type": "code",
   "execution_count": null,
   "metadata": {},
   "outputs": [],
   "source": [
    "bounds = bnds"
   ]
  },
  {
   "cell_type": "code",
   "execution_count": null,
   "metadata": {},
   "outputs": [],
   "source": [
    "n_calls = 200"
   ]
  },
  {
   "cell_type": "code",
   "execution_count": null,
   "metadata": {},
   "outputs": [],
   "source": [
    "forest_res = forest_minimize(Optimum, bounds, n_calls=n_calls,\n",
    "                             base_estimator=\"ET\", random_state=4)"
   ]
  },
  {
   "cell_type": "code",
   "execution_count": null,
   "metadata": {},
   "outputs": [],
   "source": [
    "forest_res"
   ]
  },
  {
   "cell_type": "code",
   "execution_count": null,
   "metadata": {},
   "outputs": [],
   "source": [
    "_ = plot_evaluations(forest_res, dimensions = ['G1', 'G2', 'G3', 'G4'])\n",
    "_ = plot_objective(forest_res, n_samples=200, dimensions = ['G1', 'G2', 'G3', 'G4'], size = 3)"
   ]
  },
  {
   "cell_type": "markdown",
   "metadata": {},
   "source": [
    "# BruteForce"
   ]
  },
  {
   "cell_type": "code",
   "execution_count": null,
   "metadata": {},
   "outputs": [],
   "source": [
    "bnds"
   ]
  },
  {
   "cell_type": "code",
   "execution_count": null,
   "metadata": {},
   "outputs": [],
   "source": [
    "rranges = [slice(20, 180, 5), slice(20, 180, 5), slice(20, 180,5), slice(20, 180,5)]"
   ]
  },
  {
   "cell_type": "code",
   "execution_count": null,
   "metadata": {},
   "outputs": [],
   "source": [
    "rranges"
   ]
  },
  {
   "cell_type": "code",
   "execution_count": null,
   "metadata": {},
   "outputs": [],
   "source": [
    "from scipy import optimize\n",
    "resbrute = optimize.brute(Optimum, ranges= rranges, full_output=True,\n",
    "                          finish=None)"
   ]
  },
  {
   "cell_type": "code",
   "execution_count": null,
   "metadata": {},
   "outputs": [],
   "source": [
    "resbrute[0]"
   ]
  },
  {
   "cell_type": "code",
   "execution_count": null,
   "metadata": {},
   "outputs": [],
   "source": [
    "resbrute[1]"
   ]
  },
  {
   "cell_type": "code",
   "execution_count": null,
   "metadata": {},
   "outputs": [],
   "source": [
    "resbrute[3]"
   ]
  },
  {
   "cell_type": "markdown",
   "metadata": {},
   "source": [
    "# Differential evolution"
   ]
  },
  {
   "cell_type": "code",
   "execution_count": null,
   "metadata": {},
   "outputs": [],
   "source": [
    "from scipy.optimize import rosen, differential_evolution"
   ]
  },
  {
   "cell_type": "code",
   "execution_count": null,
   "metadata": {},
   "outputs": [],
   "source": [
    "bounds = [(20, 180), (20, 180), (20, 180), (20, 180)]"
   ]
  },
  {
   "cell_type": "code",
   "execution_count": null,
   "metadata": {},
   "outputs": [],
   "source": [
    "result = differential_evolution(Optimum, bounds, updating='deferred',\n",
    "                                workers=2)"
   ]
  },
  {
   "cell_type": "code",
   "execution_count": null,
   "metadata": {},
   "outputs": [],
   "source": [
    "result.x, result.fun"
   ]
  },
  {
   "cell_type": "code",
   "execution_count": null,
   "metadata": {},
   "outputs": [],
   "source": []
  }
 ],
 "metadata": {
  "kernelspec": {
   "display_name": "Python 3",
   "language": "python",
   "name": "python3"
  },
  "language_info": {
   "codemirror_mode": {
    "name": "ipython",
    "version": 3
   },
   "file_extension": ".py",
   "mimetype": "text/x-python",
   "name": "python",
   "nbconvert_exporter": "python",
   "pygments_lexer": "ipython3",
   "version": "3.8.5"
  }
 },
 "nbformat": 4,
 "nbformat_minor": 5
}
